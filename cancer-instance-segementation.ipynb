{
 "metadata": {
  "kernelspec": {
   "language": "python",
   "display_name": "Python 3",
   "name": "python3"
  },
  "language_info": {
   "pygments_lexer": "ipython3",
   "nbconvert_exporter": "python",
   "version": "3.6.4",
   "file_extension": ".py",
   "codemirror_mode": {
    "name": "ipython",
    "version": 3
   },
   "name": "python",
   "mimetype": "text/x-python"
  },
  "pycharm": {
   "stem_cell": {
    "cell_type": "raw",
    "source": [],
    "metadata": {
     "collapsed": false
    }
   }
  }
 },
 "nbformat_minor": 4,
 "nbformat": 4,
 "cells": [
  {
   "cell_type": "markdown",
   "source": [
    "# Import Cool Stuff"
   ],
   "metadata": {}
  },
  {
   "cell_type": "code",
   "source": [
    "from __future__ import print_function\n",
    "\n",
    "from collections import defaultdict, deque\n",
    "import datetime\n",
    "import pickle\n",
    "import time\n",
    "import torch.distributed as dist\n",
    "import errno\n",
    "import math\n",
    "import collections\n",
    "import os\n",
    "import numpy as np\n",
    "import torch\n",
    "import torch.utils.data\n",
    "from skimage.measure import label\n",
    "from PIL import Image, ImageFile\n",
    "import pandas as pd\n",
    "from tqdm import tqdm\n",
    "from torchvision import transforms\n",
    "import torchvision\n",
    "import random\n",
    "import sys\n",
    "from torchvision.models.detection.faster_rcnn import FastRCNNPredictor\n",
    "from torchvision.models.detection.mask_rcnn import MaskRCNNPredictor\n",
    "\n",
    "ImageFile.LOAD_TRUNCATED_IMAGES = True\n"
   ],
   "metadata": {
    "_uuid": "8f2839f25d086af736a60e9eeb907d3b93b6e0e5",
    "_cell_guid": "b1076dfc-b9ad-4769-8c92-a6c4dae69d19",
    "execution": {
     "iopub.status.busy": "2021-05-31T08:28:24.549224Z",
     "iopub.execute_input": "2021-05-31T08:28:24.549629Z",
     "iopub.status.idle": "2021-05-31T08:28:24.558924Z",
     "shell.execute_reply.started": "2021-05-31T08:28:24.549584Z",
     "shell.execute_reply": "2021-05-31T08:28:24.556702Z"
    },
    "trusted": true,
    "pycharm": {
     "is_executing": false
    }
   },
   "execution_count": 1,
   "outputs": [
    {
     "traceback": [
      "\u001b[0;31m---------------------------------------------------------------------------\u001b[0m",
      "\u001b[0;31mModuleNotFoundError\u001b[0m                       Traceback (most recent call last)",
      "\u001b[0;32m<ipython-input-1-13351c0a70aa>\u001b[0m in \u001b[0;36m<module>\u001b[0;34m\u001b[0m\n\u001b[1;32m     13\u001b[0m \u001b[0;32mimport\u001b[0m \u001b[0mtorch\u001b[0m\u001b[0;34m\u001b[0m\u001b[0;34m\u001b[0m\u001b[0m\n\u001b[1;32m     14\u001b[0m \u001b[0;32mimport\u001b[0m \u001b[0mtorch\u001b[0m\u001b[0;34m.\u001b[0m\u001b[0mutils\u001b[0m\u001b[0;34m.\u001b[0m\u001b[0mdata\u001b[0m\u001b[0;34m\u001b[0m\u001b[0;34m\u001b[0m\u001b[0m\n\u001b[0;32m---> 15\u001b[0;31m \u001b[0;32mfrom\u001b[0m \u001b[0mskimage\u001b[0m\u001b[0;34m.\u001b[0m\u001b[0mmeasure\u001b[0m \u001b[0;32mimport\u001b[0m \u001b[0mlabel\u001b[0m\u001b[0;34m\u001b[0m\u001b[0;34m\u001b[0m\u001b[0m\n\u001b[0m\u001b[1;32m     16\u001b[0m \u001b[0;32mfrom\u001b[0m \u001b[0mPIL\u001b[0m \u001b[0;32mimport\u001b[0m \u001b[0mImage\u001b[0m\u001b[0;34m,\u001b[0m \u001b[0mImageFile\u001b[0m\u001b[0;34m\u001b[0m\u001b[0;34m\u001b[0m\u001b[0m\n\u001b[1;32m     17\u001b[0m \u001b[0;32mimport\u001b[0m \u001b[0mpandas\u001b[0m \u001b[0;32mas\u001b[0m \u001b[0mpd\u001b[0m\u001b[0;34m\u001b[0m\u001b[0;34m\u001b[0m\u001b[0m\n",
      "\u001b[0;31mModuleNotFoundError\u001b[0m: No module named 'skimage'"
     ],
     "ename": "ModuleNotFoundError",
     "evalue": "No module named 'skimage'",
     "output_type": "error"
    }
   ]
  },
  {
   "cell_type": "code",
   "source": [
    "!git clone https://github.com/pytorch/vision.git\n",
    "!cp -f ./vision/references/detection/transforms.py ./ \n",
    "!cp -f ./vision/references/detection/utils.py ./ \n",
    "!rm -r ./vision  "
   ],
   "metadata": {
    "execution": {
     "iopub.status.busy": "2021-05-31T08:43:08.835117Z",
     "iopub.execute_input": "2021-05-31T08:43:08.835441Z",
     "iopub.status.idle": "2021-05-31T08:43:17.478519Z",
     "shell.execute_reply.started": "2021-05-31T08:43:08.835363Z",
     "shell.execute_reply": "2021-05-31T08:43:17.47742Z"
    },
    "trusted": true,
    "pycharm": {
     "is_executing": false
    }
   },
   "execution_count": null,
   "outputs": []
  },
  {
   "cell_type": "markdown",
   "source": [
    "# Utility Functions (hidden)"
   ],
   "metadata": {}
  },
  {
   "cell_type": "code",
   "source": [
    "class SmoothedValue(object):\n",
    "    \"\"\"Track a series of values and provide access to smoothed values over a\n",
    "    window or the global series average.\n",
    "    \"\"\"\n",
    "\n",
    "    def __init__(self, window_size=20, fmt=None):\n",
    "        if fmt is None:\n",
    "            fmt = \"{median:.4f} ({global_avg:.4f})\"\n",
    "        self.deque = deque(maxlen=window_size)\n",
    "        self.total = 0.0\n",
    "        self.count = 0\n",
    "        self.fmt = fmt\n",
    "\n",
    "    def update(self, value, n=1):\n",
    "        self.deque.append(value)\n",
    "        self.count += n\n",
    "        self.total += value * n\n",
    "\n",
    "    def synchronize_between_processes(self):\n",
    "        \"\"\"\n",
    "        Warning: does not synchronize the deque!\n",
    "        \"\"\"\n",
    "        if not is_dist_avail_and_initialized():\n",
    "            return\n",
    "        t = torch.tensor([self.count, self.total], dtype=torch.float64, device='cuda')\n",
    "        dist.barrier()\n",
    "        dist.all_reduce(t)\n",
    "        t = t.tolist()\n",
    "        self.count = int(t[0])\n",
    "        self.total = t[1]\n",
    "\n",
    "    @property\n",
    "    def median(self):\n",
    "        d = torch.tensor(list(self.deque))\n",
    "        return d.median().item()\n",
    "\n",
    "    @property\n",
    "    def avg(self):\n",
    "        d = torch.tensor(list(self.deque), dtype=torch.float32)\n",
    "        return d.mean().item()\n",
    "\n",
    "    @property\n",
    "    def global_avg(self):\n",
    "        return self.total / self.count\n",
    "\n",
    "    @property\n",
    "    def max(self):\n",
    "        return max(self.deque)\n",
    "\n",
    "    @property\n",
    "    def value(self):\n",
    "        return self.deque[-1]\n",
    "\n",
    "    def __str__(self):\n",
    "        return self.fmt.format(\n",
    "            median=self.median,\n",
    "            avg=self.avg,\n",
    "            global_avg=self.global_avg,\n",
    "            max=self.max,\n",
    "            value=self.value)\n",
    "\n",
    "\n",
    "def all_gather(data):\n",
    "    \"\"\"\n",
    "    Run all_gather on arbitrary picklable data (not necessarily tensors)\n",
    "    Args:\n",
    "        data: any picklable object\n",
    "    Returns:\n",
    "        list[data]: list of data gathered from each rank\n",
    "    \"\"\"\n",
    "    world_size = get_world_size()\n",
    "    if world_size == 1:\n",
    "        return [data]\n",
    "\n",
    "    # serialized to a Tensor\n",
    "    buffer = pickle.dumps(data)\n",
    "    storage = torch.ByteStorage.from_buffer(buffer)\n",
    "    tensor = torch.ByteTensor(storage).to(\"cuda\")\n",
    "\n",
    "    # obtain Tensor size of each rank\n",
    "    local_size = torch.tensor([tensor.numel()], device=\"cuda\")\n",
    "    size_list = [torch.tensor([0], device=\"cuda\") for _ in range(world_size)]\n",
    "    dist.all_gather(size_list, local_size)\n",
    "    size_list = [int(size.item()) for size in size_list]\n",
    "    max_size = max(size_list)\n",
    "\n",
    "    # receiving Tensor from all ranks\n",
    "    # we pad the tensor because torch all_gather does not support\n",
    "    # gathering tensors of different shapes\n",
    "    tensor_list = []\n",
    "    for _ in size_list:\n",
    "        tensor_list.append(torch.empty((max_size,), dtype=torch.uint8, device=\"cuda\"))\n",
    "    if local_size != max_size:\n",
    "        padding = torch.empty(size=(max_size - local_size,), dtype=torch.uint8, device=\"cuda\")\n",
    "        tensor = torch.cat((tensor, padding), dim=0)\n",
    "    dist.all_gather(tensor_list, tensor)\n",
    "\n",
    "    data_list = []\n",
    "    for size, tensor in zip(size_list, tensor_list):\n",
    "        buffer = tensor.cpu().numpy().tobytes()[:size]\n",
    "        data_list.append(pickle.loads(buffer))\n",
    "\n",
    "    return data_list\n",
    "\n",
    "\n",
    "def reduce_dict(input_dict, average=True):\n",
    "    \"\"\"\n",
    "    Args:\n",
    "        input_dict (dict): all the values will be reduced\n",
    "        average (bool): whether to do average or sum\n",
    "    Reduce the values in the dictionary from all processes so that all processes\n",
    "    have the averaged results. Returns a dict with the same fields as\n",
    "    input_dict, after reduction.\n",
    "    \"\"\"\n",
    "    world_size = get_world_size()\n",
    "    if world_size < 2:\n",
    "        return input_dict\n",
    "    with torch.no_grad():\n",
    "        names = []\n",
    "        values = []\n",
    "        # sort the keys so that they are consistent across processes\n",
    "        for k in sorted(input_dict.keys()):\n",
    "            names.append(k)\n",
    "            values.append(input_dict[k])\n",
    "        values = torch.stack(values, dim=0)\n",
    "        dist.all_reduce(values)\n",
    "        if average:\n",
    "            values /= world_size\n",
    "        reduced_dict = {k: v for k, v in zip(names, values)}\n",
    "    return reduced_dict\n",
    "\n",
    "\n",
    "class MetricLogger(object):\n",
    "    def __init__(self, delimiter=\"\\t\"):\n",
    "        self.meters = defaultdict(SmoothedValue)\n",
    "        self.delimiter = delimiter\n",
    "\n",
    "    def update(self, **kwargs):\n",
    "        for k, v in kwargs.items():\n",
    "            if isinstance(v, torch.Tensor):\n",
    "                v = v.item()\n",
    "            assert isinstance(v, (float, int))\n",
    "            self.meters[k].update(v)\n",
    "\n",
    "    def __getattr__(self, attr):\n",
    "        if attr in self.meters:\n",
    "            return self.meters[attr]\n",
    "        if attr in self.__dict__:\n",
    "            return self.__dict__[attr]\n",
    "        raise AttributeError(\"'{}' object has no attribute '{}'\".format(\n",
    "            type(self).__name__, attr))\n",
    "\n",
    "    def __str__(self):\n",
    "        loss_str = []\n",
    "        for name, meter in self.meters.items():\n",
    "            loss_str.append(\n",
    "                \"{}: {}\".format(name, str(meter))\n",
    "            )\n",
    "        return self.delimiter.join(loss_str)\n",
    "\n",
    "    def synchronize_between_processes(self):\n",
    "        for meter in self.meters.values():\n",
    "            meter.synchronize_between_processes()\n",
    "\n",
    "    def add_meter(self, name, meter):\n",
    "        self.meters[name] = meter\n",
    "\n",
    "    def log_every(self, iterable, print_freq, header=None):\n",
    "        i = 0\n",
    "        if not header:\n",
    "            header = ''\n",
    "        start_time = time.time()\n",
    "        end = time.time()\n",
    "        iter_time = SmoothedValue(fmt='{avg:.4f}')\n",
    "        data_time = SmoothedValue(fmt='{avg:.4f}')\n",
    "        space_fmt = ':' + str(len(str(len(iterable)))) + 'd'\n",
    "        log_msg = self.delimiter.join([\n",
    "            header,\n",
    "            '[{0' + space_fmt + '}/{1}]',\n",
    "            'eta: {eta}',\n",
    "            '{meters}',\n",
    "            'time: {time}',\n",
    "            'data: {data}',\n",
    "            'max mem: {memory:.0f}'\n",
    "        ])\n",
    "        MB = 1024.0 * 1024.0\n",
    "        for obj in iterable:\n",
    "            data_time.update(time.time() - end)\n",
    "            yield obj\n",
    "            iter_time.update(time.time() - end)\n",
    "            if i % print_freq == 0 or i == len(iterable) - 1:\n",
    "                eta_seconds = iter_time.global_avg * (len(iterable) - i)\n",
    "                eta_string = str(datetime.timedelta(seconds=int(eta_seconds)))\n",
    "                print(log_msg.format(\n",
    "                    i, len(iterable), eta=eta_string,\n",
    "                    meters=str(self),\n",
    "                    time=str(iter_time), data=str(data_time),\n",
    "                    memory=torch.cuda.max_memory_allocated() / MB))\n",
    "            i += 1\n",
    "            end = time.time()\n",
    "        total_time = time.time() - start_time\n",
    "        total_time_str = str(datetime.timedelta(seconds=int(total_time)))\n",
    "        print('{} Total time: {} ({:.4f} s / it)'.format(\n",
    "            header, total_time_str, total_time / len(iterable)))\n",
    "\n",
    "\n",
    "def collate_fn(batch):\n",
    "    return tuple(zip(*batch))\n",
    "\n",
    "\n",
    "def warmup_lr_scheduler(optimizer, warmup_iters, warmup_factor):\n",
    "\n",
    "    def f(x):\n",
    "        if x >= warmup_iters:\n",
    "            return 1\n",
    "        alpha = float(x) / warmup_iters\n",
    "        return warmup_factor * (1 - alpha) + alpha\n",
    "\n",
    "    return torch.optim.lr_scheduler.LambdaLR(optimizer, f)\n",
    "\n",
    "\n",
    "def mkdir(path):\n",
    "    try:\n",
    "        os.makedirs(path)\n",
    "    except OSError as e:\n",
    "        if e.errno != errno.EEXIST:\n",
    "            raise\n",
    "\n",
    "\n",
    "def setup_for_distributed(is_master):\n",
    "    \"\"\"\n",
    "    This function disables printing when not in master process\n",
    "    \"\"\"\n",
    "    import builtins as __builtin__\n",
    "    builtin_print = __builtin__.print\n",
    "\n",
    "    def print(*args, **kwargs):\n",
    "        force = kwargs.pop('force', False)\n",
    "        if is_master or force:\n",
    "            builtin_print(*args, **kwargs)\n",
    "\n",
    "    __builtin__.print = print\n",
    "\n",
    "\n",
    "def is_dist_avail_and_initialized():\n",
    "    if not dist.is_available():\n",
    "        return False\n",
    "    if not dist.is_initialized():\n",
    "        return False\n",
    "    return True\n",
    "\n",
    "\n",
    "def get_world_size():\n",
    "    if not is_dist_avail_and_initialized():\n",
    "        return 1\n",
    "    return dist.get_world_size()\n",
    "\n",
    "\n",
    "def get_rank():\n",
    "    if not is_dist_avail_and_initialized():\n",
    "        return 0\n",
    "    return dist.get_rank()\n",
    "\n",
    "\n",
    "def is_main_process():\n",
    "    return get_rank() == 0\n",
    "\n",
    "\n",
    "def save_on_master(*args, **kwargs):\n",
    "    if is_main_process():\n",
    "        torch.save(*args, **kwargs)\n",
    "\n",
    "\n",
    "def init_distributed_mode(args):\n",
    "    if 'RANK' in os.environ and 'WORLD_SIZE' in os.environ:\n",
    "        args.rank = int(os.environ[\"RANK\"])\n",
    "        args.world_size = int(os.environ['WORLD_SIZE'])\n",
    "        args.gpu = int(os.environ['LOCAL_RANK'])\n",
    "    elif 'SLURM_PROCID' in os.environ:\n",
    "        args.rank = int(os.environ['SLURM_PROCID'])\n",
    "        args.gpu = args.rank % torch.cuda.device_count()\n",
    "    else:\n",
    "        print('Not using distributed mode')\n",
    "        args.distributed = False\n",
    "        return\n",
    "\n",
    "    args.distributed = True\n",
    "\n",
    "    torch.cuda.set_device(args.gpu)\n",
    "    args.dist_backend = 'nccl'\n",
    "    print('| distributed init (rank {}): {}'.format(\n",
    "        args.rank, args.dist_url), flush=True)\n",
    "    torch.distributed.init_process_group(backend=args.dist_backend, init_method=args.dist_url,\n",
    "                                         world_size=args.world_size, rank=args.rank)\n",
    "    torch.distributed.barrier()\n",
    "    setup_for_distributed(args.rank == 0)"
   ],
   "metadata": {
    "_cell_guid": "79c7e3d0-c299-4dcb-8224-4455121ee9b0",
    "_uuid": "d629ff2d2480ee46fbb7e2d37f6b5fab8052498a",
    "_kg_hide-input": true,
    "execution": {
     "iopub.status.busy": "2021-05-31T08:28:33.566269Z",
     "iopub.execute_input": "2021-05-31T08:28:33.566593Z",
     "iopub.status.idle": "2021-05-31T08:28:33.619301Z",
     "shell.execute_reply.started": "2021-05-31T08:28:33.566559Z",
     "shell.execute_reply": "2021-05-31T08:28:33.618102Z"
    },
    "trusted": true,
    "pycharm": {
     "is_executing": false
    }
   },
   "execution_count": null,
   "outputs": []
  },
  {
   "cell_type": "markdown",
   "source": [
    "# Cancer Dataset Class"
   ],
   "metadata": {}
  },
  {
   "cell_type": "code",
   "source": [
    "class CancerDataset(torch.utils.data.Dataset):\n",
    "        \n",
    "    def __init__(self, images, masks, valid_ids, transforms=None): #定义的全局变量必须加self.\n",
    "        self.images, self.masks = images, masks\n",
    "        self.valid_ids = valid_ids\n",
    "        self.transforms = transforms                               #transform用于数据增强\n",
    " \n",
    "    def __getitem__(self, idx):\n",
    "        idx = self.valid_ids[idx]\n",
    "        img = self.images[idx,:,:,:]\n",
    "        # print('masks shape:', img.shape)\n",
    "        mask = self.masks[idx,:,:,0]\n",
    "        obj_ids = np.unique(mask)\n",
    "        # print('obj ids:', obj_ids)\n",
    "        # 去除切片维度，也就是[0]\n",
    "        obj_ids = obj_ids[1:]\n",
    "        masks = mask == obj_ids[:, None, None]              #把每张图都拿出来放到masks里,拓展维度\n",
    "        # print('masks shape:', masks.shape)\n",
    "        \n",
    "        #给每个mask加框\n",
    "        num_objs = len(obj_ids)\n",
    "        boxes = []\n",
    "        for i in range(num_objs):\n",
    "            pos = np.where(masks[i])\n",
    "            xmin = np.min(pos[1])                           #列是1，行是0\n",
    "            xmax = np.max(pos[1])\n",
    "            ymin = np.min(pos[0])\n",
    "            ymax = np.max(pos[0])\n",
    "#             boxes.append([xmin, ymin, xmax-xmin, ymax-ymin])          #append：往列表里加元素\n",
    "            if (xmax-xmin) > 3 and (ymax-ymin) > 3:\n",
    "                boxes.append([xmin, ymin, xmax, ymax])          #append：往列表里加元素\n",
    " \n",
    "#         boxes = torch.as_tensor(boxes, dtype=torch.float32)\n",
    "        boxes = torch.as_tensor(boxes)\n",
    "        labels = torch.ones((num_objs,), dtype=torch.int64) -1\n",
    "        masks = torch.as_tensor(masks, dtype=torch.uint8)\n",
    "        \n",
    "        image_id = torch.tensor([idx])\n",
    "    \n",
    "        target = {}\n",
    "        target[\"boxes\"] = boxes\n",
    "        target[\"masks\"] = masks\n",
    "        target[\"image_id\"] = image_id\n",
    "        target[\"labels\"] = labels\n",
    "        \n",
    "        if self.transforms is not None:\n",
    "            img, target = self.transforms(img, target)\n",
    " \n",
    " \n",
    "        return img, target\n",
    " \n",
    " \n",
    "    def __len__(self):\n",
    "        return self.valid_ids.shape[0]\n",
    "#         return self.images.shape[0]                       #返回值不能是numpy数组，为切片数"
   ],
   "metadata": {
    "execution": {
     "iopub.status.busy": "2021-05-31T08:28:33.622874Z",
     "iopub.execute_input": "2021-05-31T08:28:33.623574Z",
     "iopub.status.idle": "2021-05-31T08:28:33.640671Z",
     "shell.execute_reply.started": "2021-05-31T08:28:33.623522Z",
     "shell.execute_reply": "2021-05-31T08:28:33.638389Z"
    },
    "trusted": true,
    "pycharm": {
     "is_executing": false
    }
   },
   "execution_count": null,
   "outputs": []
  },
  {
   "cell_type": "code",
   "source": "import transforms as T\nimport utils\n \ndef get_transform(train):\n    transforms = []\n    # 把PIL图转为张量\n    transforms.append(T.ToTensor())\n    if train:\n        transforms.append(T.RandomHorizontalFlip(0.5))     #随机水平翻转,翻一倍\n    return T.Compose(transforms)",
   "metadata": {
    "execution": {
     "iopub.status.busy": "2021-05-31T08:28:33.643402Z",
     "iopub.execute_input": "2021-05-31T08:28:33.644072Z",
     "iopub.status.idle": "2021-05-31T08:28:33.65619Z",
     "shell.execute_reply.started": "2021-05-31T08:28:33.64397Z",
     "shell.execute_reply": "2021-05-31T08:28:33.655115Z"
    },
    "trusted": true,
    "pycharm": {
     "is_executing": false
    }
   },
   "execution_count": null,
   "outputs": []
  },
  {
   "cell_type": "code",
   "source": "import os\nimport numpy as np\n\nroot = '../input/cancer-inst-segmentation-and-classification'\nimg_path = os.path.join(root, 'Images/images.npy')         #root是mask和image公共的路径部分\nimages = np.load(img_path,mmap_mode='r')\nmask_path = os.path.join(root, 'Masks/masks.npy')\nmasks = np.load(mask_path,mmap_mode='r')\n\n\ndef filter_masks(masks):\n    valid_idxs = []\n    for idx in range(masks.shape[0]):\n        m = masks[idx,:,:,0]\n        obj_ids = np.unique(m)\n        if len(obj_ids) == 1:\n            continue\n        else:\n            obj_ids = obj_ids[1:]\n            ms = m == obj_ids[:, None, None]              #把每张图都拿出来放到masks里,拓展维度\n            #给每个mask加框\n            num_objs = len(obj_ids)\n            boxes = []\n            for i in range(num_objs):\n                pos = np.where(ms[i])\n                xmin = np.min(pos[1])                           #列是1，行是0\n                xmax = np.max(pos[1])\n                ymin = np.min(pos[0])\n                ymax = np.max(pos[0])\n    #             boxes.append([xmin, ymin, xmax-xmin, ymax-ymin])          #append：往列表里加元素\n                if (xmax-xmin) > 3 and (ymax-ymin) > 3:\n                    boxes.append([xmin, ymin, xmax, ymax])\n            if len(boxes) > 0:\n                valid_idxs.append(idx)  \n    return np.array(valid_idxs)\n\nvalid_idxs = filter_masks(masks)\n# images_filter, masks_filter = images[valid_idxs], masks[valid_idxs]\nint(len(valid_idxs)*0.8)  # 1459\n\n# 计算有效图片在原序列中的位置\ntrn_id, val_id = int(len(valid_idxs)*0.8), int(len(valid_idxs)*0.9)\nprint('filter ids:',trn_id,val_id)\nprint('org ids:', valid_idxs[trn_id],valid_idxs[val_id])\nprint('trainset len:',valid_idxs[:trn_id].shape)\nprint('valset len:',valid_idxs[trn_id:val_id].shape)\nprint('testset len:',valid_idxs[val_id:].shape)\n\nimages_split = np.split(images,[valid_idxs[trn_id],valid_idxs[val_id]])\nprint(images_split[0].shape)\n\nmasks_split = np.split(masks,[valid_idxs[trn_id],valid_idxs[val_id]])\nprint(masks_split[1].shape)\n\n\ntr_idxs = valid_idxs[:trn_id]\nval_idxs = valid_idxs[trn_id:val_id] - valid_idxs[trn_id]\nts_idxs = valid_idxs[val_id:] - valid_idxs[val_id]\n\ntrainset = CancerDataset(images_split[0], masks_split[0], tr_idxs, get_transform(train=True))\nvalset = CancerDataset(images_split[1], masks_split[1], val_idxs, get_transform(train=False))\ntestset = CancerDataset(images_split[2], masks_split[2], ts_idxs, get_transform(train=False))\nprint('trainset len:',len(trainset),'valset len:',len(valset),'testset len:',len(testset))",
   "metadata": {
    "execution": {
     "iopub.status.busy": "2021-05-31T08:28:33.657856Z",
     "iopub.execute_input": "2021-05-31T08:28:33.658711Z",
     "iopub.status.idle": "2021-05-31T08:28:47.155744Z",
     "shell.execute_reply.started": "2021-05-31T08:28:33.658667Z",
     "shell.execute_reply": "2021-05-31T08:28:47.153582Z"
    },
    "trusted": true,
    "pycharm": {
     "is_executing": false
    }
   },
   "execution_count": null,
   "outputs": []
  },
  {
   "cell_type": "markdown",
   "source": "# Define Dataloader",
   "metadata": {}
  },
  {
   "cell_type": "code",
   "source": "data_loader = torch.utils.data.DataLoader(\n    trainset, batch_size=2, shuffle=True, num_workers=0,\n    collate_fn=lambda x: tuple(zip(*x)))\n\ndata_loader_val = torch.utils.data.DataLoader(\n    valset, batch_size=2, shuffle=False, num_workers=0,\n    collate_fn=lambda x: tuple(zip(*x)))",
   "metadata": {
    "execution": {
     "iopub.status.busy": "2021-05-31T08:28:47.157566Z",
     "iopub.execute_input": "2021-05-31T08:28:47.158011Z",
     "iopub.status.idle": "2021-05-31T08:28:47.531945Z",
     "shell.execute_reply.started": "2021-05-31T08:28:47.157942Z",
     "shell.execute_reply": "2021-05-31T08:28:47.529699Z"
    },
    "trusted": true,
    "pycharm": {
     "is_executing": false
    }
   },
   "execution_count": null,
   "outputs": []
  },
  {
   "cell_type": "markdown",
   "source": "# Create Mask-RCNN Model",
   "metadata": {}
  },
  {
   "cell_type": "code",
   "source": "# create mask rcnn model\nnum_classes = 1\ndevice = torch.device('cuda:0')\n\n\nmodel_ft = torchvision.models.detection.maskrcnn_resnet50_fpn(pretrained=True)\nprint('model_ft: ', model_ft)\nin_features = model_ft.roi_heads.box_predictor.cls_score.in_features\nprint('in_features: ', in_features)\n\nmodel_ft.roi_heads.box_predictor = FastRCNNPredictor(in_features, num_classes)\nin_features_mask = model_ft.roi_heads.mask_predictor.conv5_mask.in_channels\nprint('in_features_mask: ', in_features_mask)\nhidden_layer = 256\nmodel_ft.roi_heads.mask_predictor = MaskRCNNPredictor(in_features_mask, hidden_layer, num_classes)\nmodel_ft.to(device)\n    \n    \n\nfor param in model_ft.parameters():\n    param.requires_grad = True",
   "metadata": {
    "execution": {
     "iopub.status.busy": "2021-05-31T08:28:47.534292Z",
     "iopub.execute_input": "2021-05-31T08:28:47.53484Z",
     "iopub.status.idle": "2021-05-31T08:28:48.579965Z",
     "shell.execute_reply.started": "2021-05-31T08:28:47.534792Z",
     "shell.execute_reply": "2021-05-31T08:28:48.578691Z"
    },
    "trusted": true,
    "pycharm": {
     "is_executing": false
    }
   },
   "execution_count": null,
   "outputs": []
  },
  {
   "cell_type": "markdown",
   "source": "# Training Function",
   "metadata": {}
  },
  {
   "cell_type": "code",
   "source": "def train_one_epoch(model, optimizer, data_loader, device, epoch, print_freq):\n    model.train()\n    metric_logger = MetricLogger(delimiter=\"  \")\n    metric_logger.add_meter('lr', SmoothedValue(window_size=1, fmt='{value:.6f}'))\n    header = 'Epoch: [{}]'.format(epoch)\n\n    lr_scheduler = None\n    if epoch == 0:\n        warmup_factor = 1. / 1000\n        warmup_iters = min(1000, len(data_loader) - 1)\n\n        lr_scheduler = utils.warmup_lr_scheduler(optimizer, warmup_iters, warmup_factor)\n        #加了utils\n        \n    for images, targets in metric_logger.log_every(data_loader, print_freq, header):\n        images = list(image.to(device) for image in images)\n        targets = [{k: v.to(device) for k, v in t.items()} for t in targets]\n        images = list(image.float() for image in images)   #加了这句\n        \n        loss_dict = model_ft(images, targets)\n        print('loss_dict:',loss_dict)\n\n        losses = sum(loss for loss in loss_dict.values())\n\n        # reduce losses over all GPUs for logging purposes\n        loss_dict_reduced = utils.reduce_dict(loss_dict)    #加了utils\n        losses_reduced = sum(loss for loss in loss_dict_reduced.values())\n        loss_value = losses_reduced.item()        #加了这句 \n                          \n\n        optimizer.zero_grad()\n        losses.backward()\n        optimizer.step()\n\n        if lr_scheduler is not None:\n            lr_scheduler.step()\n\n        metric_logger.update(loss=losses_reduced, **loss_dict_reduced)\n        metric_logger.update(lr=optimizer.param_groups[0][\"lr\"])\n        \n    ",
   "metadata": {
    "execution": {
     "iopub.status.busy": "2021-05-31T08:28:48.583961Z",
     "iopub.execute_input": "2021-05-31T08:28:48.584777Z",
     "iopub.status.idle": "2021-05-31T08:28:48.611152Z",
     "shell.execute_reply.started": "2021-05-31T08:28:48.58473Z",
     "shell.execute_reply": "2021-05-31T08:28:48.609643Z"
    },
    "trusted": true,
    "pycharm": {
     "is_executing": false
    }
   },
   "execution_count": null,
   "outputs": []
  },
  {
   "cell_type": "markdown",
   "source": "# Define Training Parameters",
   "metadata": {}
  },
  {
   "cell_type": "code",
   "source": "params = [p for p in model_ft.parameters() if p.requires_grad]\noptimizer = torch.optim.SGD(params, lr=0.001, momentum=0.9, weight_decay=0.0005)\nlr_scheduler = torch.optim.lr_scheduler.StepLR(optimizer,\n                                               step_size=5,\n                                               gamma=0.1)",
   "metadata": {
    "execution": {
     "iopub.status.busy": "2021-05-31T08:28:48.613266Z",
     "iopub.execute_input": "2021-05-31T08:28:48.617504Z",
     "iopub.status.idle": "2021-05-31T08:28:48.633067Z",
     "shell.execute_reply.started": "2021-05-31T08:28:48.617443Z",
     "shell.execute_reply": "2021-05-31T08:28:48.631688Z"
    },
    "trusted": true,
    "pycharm": {
     "is_executing": false
    }
   },
   "execution_count": null,
   "outputs": []
  },
  {
   "cell_type": "markdown",
   "source": "# Train Model",
   "metadata": {}
  },
  {
   "cell_type": "code",
   "source": "num_epochs = 20\nfor epoch in range(num_epochs):\n    train_one_epoch(model_ft, optimizer, data_loader, device, epoch, print_freq=100)\n    lr_scheduler.step()",
   "metadata": {
    "execution": {
     "iopub.status.busy": "2021-05-31T08:28:48.638004Z",
     "iopub.execute_input": "2021-05-31T08:28:48.638633Z"
    },
    "trusted": true,
    "pycharm": {
     "is_executing": false
    }
   },
   "execution_count": null,
   "outputs": []
  },
  {
   "cell_type": "markdown",
   "source": "# Convert Model to Evaluation Mode",
   "metadata": {}
  },
  {
   "cell_type": "code",
   "source": "for param in model_ft.parameters():\n    param.requires_grad = False\n\nmodel_ft.eval()",
   "metadata": {
    "trusted": true,
    "pycharm": {
     "is_executing": false
    }
   },
   "execution_count": null,
   "outputs": []
  },
  {
   "cell_type": "markdown",
   "source": "# Get Test Data",
   "metadata": {}
  },
  {
   "cell_type": "code",
   "source": "# # this part was taken from @raddar's kernel: https://www.kaggle.com/raddar/better-sample-submission\n# masks_ = sample_df.groupby('ImageId')['ImageId'].count().reset_index(name='N')\n# masks_ = masks_.loc[masks_.N > 1].ImageId.values\n# ###\n# sample_df = sample_df.drop_duplicates('ImageId', keep='last').reset_index(drop=True)",
   "metadata": {
    "trusted": true,
    "pycharm": {
     "is_executing": false
    }
   },
   "execution_count": null,
   "outputs": []
  },
  {
   "cell_type": "code",
   "source": "# tt = transforms.ToTensor()\n# sublist = []\n# counter = 0\n# threshold = 0.3\n# for index, row in tqdm(sample_df.iterrows(), total=len(sample_df)):\n#     image_id = row['ImageId']\n#     if image_id in masks_:\n#         img_path = os.path.join('../input/siim-png-images/input/test_png', image_id + '.png')\n\n#         img = Image.open(img_path).convert(\"RGB\")\n#         width, height = img.size\n#         img = img.resize((1024, 1024), resample=Image.BILINEAR)\n#         img = tt(img)\n#         result = model_ft([img.to(device)])[0]\n#         if len(result[\"masks\"]) > 0:\n#             counter += 1\n#             mask_added = 0\n#             for ppx in range(len(result[\"masks\"])):\n#                 if result[\"scores\"][ppx] >= threshold:\n#                     mask_added += 1\n#                     res = transforms.ToPILImage()(result[\"masks\"][ppx].permute(1, 2, 0).cpu().numpy())\n#                     res = np.asarray(res.resize((width, height), resample=Image.BILINEAR))\n#                     res = (res[:, :] * 255. > 127).astype(np.uint8).T\n#                     rle = mask_to_rle(res, width, height)\n#                     sublist.append([image_id, rle])\n#             if mask_added == 0:\n#                 rle = \" -1\"\n#                 sublist.append([image_id, rle])\n#         else:\n#             rle = \" -1\"\n#             sublist.append([image_id, rle])\n#     else:\n#         rle = \" -1\"\n#         sublist.append([image_id, rle])\n\n# submission_df = pd.DataFrame(sublist, columns=sample_df.columns.values)\n# submission_df.to_csv(\"submission.csv\", index=False)\n# print(counter)",
   "metadata": {
    "trusted": true,
    "pycharm": {
     "is_executing": false
    }
   },
   "execution_count": null,
   "outputs": []
  }
 ]
}